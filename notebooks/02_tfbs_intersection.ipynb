{
 "cells": [
  {
   "cell_type": "markdown",
   "id": "84fd4f05",
   "metadata": {},
   "source": [
    "# 02 | TFBS-VCF Intersection using PyBedTools\n",
    "\n",
    "This notebook demonstrates how to run the TFBS × VCF intersection pipeline using `deepvregulome.intersect`.\n",
    "It loads transcription factor binding site (TFBS) lists and somatic mutation VCFs, and performs bedtools-style intersection to identify variants that overlap with regulatory elements."
   ]
  },
  {
   "cell_type": "code",
   "execution_count": null,
   "id": "dabaf56f",
   "metadata": {},
   "outputs": [],
   "source": [
    "import os\n",
    "import pandas as pd\n",
    "from deepvregulome.intersect import run_tfbs_intersection_pipeline"
   ]
  },
  {
   "cell_type": "markdown",
   "id": "03bcfa6c",
   "metadata": {},
   "source": [
    "## 🔧 Load config.yaml\n",
    "Make sure your paths (VCF folder, TFBS folder, output directory, etc.) are correctly set in `config.yaml`. This will be auto-loaded by the script."
   ]
  },
  {
   "cell_type": "markdown",
   "id": "2407c697",
   "metadata": {},
   "source": [
    "## 🚀 Run Intersection\n",
    "Run the full TFBS–mutation overlap pipeline."
   ]
  },
  {
   "cell_type": "code",
   "execution_count": null,
   "id": "1da8647b",
   "metadata": {},
   "outputs": [],
   "source": [
    "# Specify the TFBS model list directory (e.g., output_4.txt to output_45.txt)\n",
    "tfbs_list_dir = \"/home/campus.stonybrook.edu/pdutta/Github/Postdoc/DNABERT_data_processing/TFBS/tfbs_list_folder/output_files\"\n",
    "\n",
    "# Run the pipeline with multiprocessing across files in the folder\n",
    "run_tfbs_intersection_pipeline(tfbs_list_dir, start=4, end=6, num_processes=3)  # Adjust for demo/testing"
   ]
  },
  {
   "cell_type": "markdown",
   "id": "4d648c0e",
   "metadata": {},
   "source": [
    "## 📊 Summary Output\n",
    "Each TFBS folder in the output will contain:\n",
    "- `VCF_statistics.tsv`: Number of variants, overlaps, and fields\n",
    "- `intersected_vcf_data.pkl`: Dictionary of per-patient intersection DataFrames"
   ]
  },
  {
   "cell_type": "code",
   "execution_count": null,
   "id": "d0541a3d",
   "metadata": {},
   "outputs": [],
   "source": [
    "# Load and display summary statistics for one TFBS\n",
    "stats_path = os.path.join(\n",
    "    \"/data/projects/GDC_Cancer_Wise/New_data/Brain/Generated_files/Intersected_Data/Somatic/300bp_TFBS\", \n",
    "    \"CTCF\",  # Example TFBS model\n",
    "    \"VCF_statistics.tsv\"\n",
    ")\n",
    "\n",
    "if os.path.exists(stats_path):\n",
    "    df_stats = pd.read_csv(stats_path, sep=\"\\t\")\n",
    "    display(df_stats.head())\n",
    "else:\n",
    "    print(\"Summary file not found — run the pipeline first.\")"
   ]
  }
 ],
 "metadata": {},
 "nbformat": 4,
 "nbformat_minor": 5
}
