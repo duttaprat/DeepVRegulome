{
 "cells": [
  {
   "cell_type": "code",
   "execution_count": 3,
   "id": "bf7fb9c1-bd64-48b6-8ce9-34befec373e7",
   "metadata": {},
   "outputs": [],
   "source": [
    "import os\n",
    "import pandas as pd\n",
    "import pysam\n",
    "import plotly.express as px\n",
    "from multiprocessing import Pool, cpu_count\n",
    "from deepvregulome.vcf_loader import get_vcf_gz_files_except_logs, vcf_to_dataframe, process_files_in_parallel"
   ]
  },
  {
   "cell_type": "code",
   "execution_count": null,
   "id": "c55a39af-164e-4174-98a6-c53146f53d07",
   "metadata": {},
   "outputs": [],
   "source": [
    "if __name__ == \"__main__\":\n",
    "    vcf_folder_path = \"/data/private/pdutta_new/GDC_Cancer_Wise/New_data/Brain/Downloaded_files/Somatic_VCF\"\n",
    "    \n",
    "    # Get the list of files for \"caveman\" and \"pindel\"\n",
    "    caveman_files, pindel_files = get_vcf_gz_files_except_logs(vcf_folder_path)\n",
    "    \n",
    "    # Process caveman files in parallel\n",
    "    caveman_df = process_files_in_parallel(caveman_files)\n",
    "    print(\"Caveman DataFrame:\")\n",
    "    print(caveman_df.head())\n",
    "    \n",
    "    # Process pindel files in parallel\n",
    "    pindel_df = process_files_in_parallel(pindel_files)\n",
    "    print(\"Pindel DataFrame:\")\n",
    "    print(pindel_df.head())\n",
    "\n",
    "    #You can now work with `caveman_df` and `pindel_df` as needed."
   ]
  },
  {
   "cell_type": "code",
   "execution_count": null,
   "id": "8e804ecb-a550-4515-a89a-73aad4b6232b",
   "metadata": {},
   "outputs": [],
   "source": [
    "df_grouped['patient_count'] = df_grouped['patient_id'].apply(len)\n",
    "df_grouped"
   ]
  },
  {
   "cell_type": "code",
   "execution_count": 18,
   "id": "115934cc-f3f5-4c64-989a-dddcc774e457",
   "metadata": {},
   "outputs": [],
   "source": [
    "caveman_df.to_csv(\"/data/private/pdutta_new/GDC_Cancer_Wise/New_data/Brain/VCF_Statistics/GBM_all_caveman_variant_infromation.tsv\", sep=\"\\t\", index=False)\n",
    "pindel_df.to_csv(\"/data/private/pdutta_new/GDC_Cancer_Wise/New_data/Brain/VCF_Statistics/GBM_all_pindel_variant_infromation.tsv\", sep=\"\\t\", index=False)"
   ]
  },
  {
   "cell_type": "code",
   "execution_count": 19,
   "id": "6f89e309-c1c2-42b7-9451-5d0036e1671e",
   "metadata": {},
   "outputs": [],
   "source": [
    "df_grouped.to_csv(\"/data/private/pdutta_new/GDC_Cancer_Wise/New_data/Brain/VCF_Statistics/GBM_unique_caveman_variant_infromation.tsv\", sep=\"\\t\", index=False)\n",
    "df_grouped_pindel.to_csv(\"/data/private/pdutta_new/GDC_Cancer_Wise/New_data/Brain/VCF_Statistics/GBM_unique_pindel_variant_infromation.tsv\", sep=\"\\t\", index=False)"
   ]
  },
  {
   "cell_type": "code",
   "execution_count": null,
   "id": "083bb84f-16d5-4183-88cb-37f67e63d3b1",
   "metadata": {},
   "outputs": [],
   "source": []
  }
 ],
 "metadata": {
  "kernelspec": {
   "display_name": "Python 3 (ipykernel)",
   "language": "python",
   "name": "python3"
  },
  "language_info": {
   "codemirror_mode": {
    "name": "ipython",
    "version": 3
   },
   "file_extension": ".py",
   "mimetype": "text/x-python",
   "name": "python",
   "nbconvert_exporter": "python",
   "pygments_lexer": "ipython3",
   "version": "3.10.14"
  }
 },
 "nbformat": 4,
 "nbformat_minor": 5
}
