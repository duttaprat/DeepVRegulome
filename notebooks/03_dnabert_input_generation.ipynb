{
 "cells": [
  {
   "cell_type": "markdown",
   "id": "c3f98c56",
   "metadata": {},
   "source": [
    "# 03 | DNABERT Input Generation (Example)\n",
    "\n",
    "This notebook demonstrates how to use the core mutation + k-mer pipeline from `generate_dnabert_data.py` to generate DNABERT-ready sequences for a single TFBS–patient pair.\n",
    "It helps inspect reference/mutated sequences, and generated k-mers."
   ]
  },
  {
   "cell_type": "code",
   "execution_count": null,
   "id": "08b809d4",
   "metadata": {},
   "outputs": [],
   "source": [
    "import os\n",
    "import pickle\n",
    "import pandas as pd\n",
    "from src.generate_dnabert_data import get_sequences, seq2kmer\n"
   ]
  },
  {
   "cell_type": "markdown",
   "id": "c6e4e5b5",
   "metadata": {},
   "source": [
    "## 🔍 Load intersection data for a single TFBS model"
   ]
  },
  {
   "cell_type": "code",
   "execution_count": null,
   "id": "909b4739",
   "metadata": {},
   "outputs": [],
   "source": [
    "example_tf = \"CTCF\"  # Change to any available TF\n",
    "example_patient = \"TCGA-06-0125_caveman\"  # Update as available\n",
    "\n",
    "pkl_path = f\"/data/private/pdutta_new/GDC_Cancer_Wise/New_data/Brain/Generated_files/Intersected_Data/Somatic/300bp_TFBS/{example_tf}/intersected_vcf_data.pkl\"\n",
    "\n",
    "with open(pkl_path, \"rb\") as f:\n",
    "    intersected_dict = pickle.load(f)\n",
    "\n",
    "vcf_df = intersected_dict[example_patient]\n",
    "vcf_df.head()"
   ]
  },
  {
   "cell_type": "markdown",
   "id": "a4ced1a4",
   "metadata": {},
   "source": [
    "## 🧬 Apply mutation and generate k-mers"
   ]
  },
  {
   "cell_type": "code",
   "execution_count": null,
   "id": "5fd401cd",
   "metadata": {},
   "outputs": [],
   "source": [
    "# Generate reference/mutated sequences + k-mers\n",
    "new_df, df_kmer, grouped_df, df_kmer_region = get_sequences(vcf_df)\n",
    "\n",
    "# Show first few mutated sequences\n",
    "new_df[['reference_seq', 'alt_seq']].head()"
   ]
  },
  {
   "cell_type": "markdown",
   "id": "61f127ed",
   "metadata": {},
   "source": [
    "## 🔠 Output DNABERT-ready k-mers"
   ]
  },
  {
   "cell_type": "code",
   "execution_count": null,
   "id": "c26013cc",
   "metadata": {},
   "outputs": [],
   "source": [
    "df_kmer.head()"
   ]
  },
  {
   "cell_type": "code",
   "execution_count": null,
   "id": "a0f8205d",
   "metadata": {},
   "outputs": [],
   "source": [
    "df_kmer_region.head()"
   ]
  }
 ],
 "metadata": {},
 "nbformat": 4,
 "nbformat_minor": 5
}
